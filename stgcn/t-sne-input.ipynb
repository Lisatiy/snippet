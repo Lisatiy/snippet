{
 "cells": [
  {
   "cell_type": "code",
   "execution_count": 1,
   "metadata": {},
   "outputs": [],
   "source": [
    "from feeder import tools\n",
    "import torch\n",
    "import pickle\n",
    "import numpy as np"
   ]
  },
  {
   "cell_type": "code",
   "execution_count": 2,
   "metadata": {},
   "outputs": [],
   "source": [
    "class Feeder(torch.utils.data.Dataset):\n",
    "    \"\"\" Feeder for skeleton-based action recognition\n",
    "    Arguments:\n",
    "        data_path: the path to '.npy' data, the shape of data should be (N, C, T, V, M)\n",
    "        label_path: the path to label\n",
    "        random_choose: If true, randomly choose a portion of the input sequence\n",
    "        random_shift: If true, randomly pad zeros at the begining or end of sequence\n",
    "        window_size: The length of the output sequence\n",
    "        normalization: If true, normalize input sequence\n",
    "        debug: If true, only use the first 100 samples\n",
    "    \"\"\"\n",
    "\n",
    "    def __init__(self,\n",
    "                 data_path,\n",
    "                 label_path,\n",
    "                 random_choose=False,\n",
    "                 random_move=False,\n",
    "                 window_size=-1,\n",
    "                 debug=False,\n",
    "                 mmap=True):\n",
    "        self.debug = debug\n",
    "        self.data_path = data_path\n",
    "        self.label_path = label_path\n",
    "        self.random_choose = random_choose\n",
    "        self.random_move = random_move\n",
    "        self.window_size = window_size\n",
    "\n",
    "        self.load_data(mmap)\n",
    "\n",
    "    def load_data(self, mmap):\n",
    "        # data: N C V T M\n",
    "\n",
    "        # load label\n",
    "        with open(self.label_path, 'rb') as f:\n",
    "            self.sample_name, self.label = pickle.load(f)\n",
    "\n",
    "        # load data\n",
    "        if mmap:\n",
    "            self.data = np.load(self.data_path, mmap_mode='r')\n",
    "        else:\n",
    "            self.data = np.load(self.data_path)\n",
    "\n",
    "        if self.debug:\n",
    "            self.label = self.label[0:100]\n",
    "            self.data = self.data[0:100]\n",
    "            self.sample_name = self.sample_name[0:100]\n",
    "\n",
    "        self.N, self.C, self.T, self.V, self.M = self.data.shape\n",
    "\n",
    "    def __len__(self):\n",
    "        return len(self.label)\n",
    "\n",
    "    def __getitem__(self, index):\n",
    "        # get data\n",
    "        data_numpy = np.array(self.data[index])\n",
    "        label = self.label[index]\n",
    "\n",
    "        # processing\n",
    "        if self.random_choose:\n",
    "            data_numpy = tools.random_choose(data_numpy, self.window_size)\n",
    "        elif self.window_size > 0:\n",
    "            data_numpy = tools.auto_pading(data_numpy, self.window_size)\n",
    "        if self.random_move:\n",
    "            data_numpy = tools.random_move(data_numpy)\n",
    "\n",
    "        return data_numpy, label"
   ]
  },
  {
   "cell_type": "code",
   "execution_count": 3,
   "metadata": {},
   "outputs": [],
   "source": [
    "def resize(x):\n",
    "    N, C, T, V, M = x.size()\n",
    "    x = x.permute(0, 4, 3, 1, 2).contiguous()\n",
    "    x = x.view(N * M, V * C * T)\n",
    "    return x"
   ]
  },
  {
   "cell_type": "code",
   "execution_count": 4,
   "metadata": {},
   "outputs": [],
   "source": [
    "data_path = \"./data/NTU-RGB-D/xsub/val_data.npy\"\n",
    "label_path = \"./data/NTU-RGB-D/xsub/val_label.pkl\"\n",
    "dset = Feeder(data_path, label_path)"
   ]
  },
  {
   "cell_type": "code",
   "execution_count": 5,
   "metadata": {},
   "outputs": [
    {
     "data": {
      "text/plain": [
       "(array([[[[ 0.337624  ,  0.        ],\n",
       "          [ 0.3622169 ,  0.        ],\n",
       "          [ 0.3840512 ,  0.        ],\n",
       "          ...,\n",
       "          [ 0.3360894 ,  0.        ],\n",
       "          [ 0.3374537 ,  0.        ],\n",
       "          [ 0.320399  ,  0.        ]],\n",
       " \n",
       "         [[ 0.3353383 ,  0.        ],\n",
       "          [ 0.3606892 ,  0.        ],\n",
       "          [ 0.3833197 ,  0.        ],\n",
       "          ...,\n",
       "          [ 0.3353996 ,  0.        ],\n",
       "          [ 0.3479694 ,  0.        ],\n",
       "          [ 0.3307016 ,  0.        ]],\n",
       " \n",
       "         [[ 0.3339515 ,  0.        ],\n",
       "          [ 0.3596975 ,  0.        ],\n",
       "          [ 0.3826712 ,  0.        ],\n",
       "          ...,\n",
       "          [ 0.3347732 ,  0.        ],\n",
       "          [ 0.3434815 ,  0.        ],\n",
       "          [ 0.3300242 ,  0.        ]],\n",
       " \n",
       "         ...,\n",
       " \n",
       "         [[ 0.        ,  0.        ],\n",
       "          [ 0.        ,  0.        ],\n",
       "          [ 0.        ,  0.        ],\n",
       "          ...,\n",
       "          [ 0.        ,  0.        ],\n",
       "          [ 0.        ,  0.        ],\n",
       "          [ 0.        ,  0.        ]],\n",
       " \n",
       "         [[ 0.        ,  0.        ],\n",
       "          [ 0.        ,  0.        ],\n",
       "          [ 0.        ,  0.        ],\n",
       "          ...,\n",
       "          [ 0.        ,  0.        ],\n",
       "          [ 0.        ,  0.        ],\n",
       "          [ 0.        ,  0.        ]],\n",
       " \n",
       "         [[ 0.        ,  0.        ],\n",
       "          [ 0.        ,  0.        ],\n",
       "          [ 0.        ,  0.        ],\n",
       "          ...,\n",
       "          [ 0.        ,  0.        ],\n",
       "          [ 0.        ,  0.        ],\n",
       "          [ 0.        ,  0.        ]]],\n",
       " \n",
       " \n",
       "        [[[ 0.02674085,  0.        ],\n",
       "          [ 0.3414172 ,  0.        ],\n",
       "          [ 0.6447685 ,  0.        ],\n",
       "          ...,\n",
       "          [ 0.1537393 ,  0.        ],\n",
       "          [-0.1451203 ,  0.        ],\n",
       "          [-0.00727248,  0.        ]],\n",
       " \n",
       "         [[ 0.02859797,  0.        ],\n",
       "          [ 0.343053  ,  0.        ],\n",
       "          [ 0.6462513 ,  0.        ],\n",
       "          ...,\n",
       "          [ 0.1552342 ,  0.        ],\n",
       "          [-0.1425486 ,  0.        ],\n",
       "          [-0.02869531,  0.        ]],\n",
       " \n",
       "         [[ 0.02893168,  0.        ],\n",
       "          [ 0.3433405 ,  0.        ],\n",
       "          [ 0.6465078 ,  0.        ],\n",
       "          ...,\n",
       "          [ 0.155505  ,  0.        ],\n",
       "          [-0.1380264 ,  0.        ],\n",
       "          [-0.02538364,  0.        ]],\n",
       " \n",
       "         ...,\n",
       " \n",
       "         [[ 0.        ,  0.        ],\n",
       "          [ 0.        ,  0.        ],\n",
       "          [ 0.        ,  0.        ],\n",
       "          ...,\n",
       "          [ 0.        ,  0.        ],\n",
       "          [ 0.        ,  0.        ],\n",
       "          [ 0.        ,  0.        ]],\n",
       " \n",
       "         [[ 0.        ,  0.        ],\n",
       "          [ 0.        ,  0.        ],\n",
       "          [ 0.        ,  0.        ],\n",
       "          ...,\n",
       "          [ 0.        ,  0.        ],\n",
       "          [ 0.        ,  0.        ],\n",
       "          [ 0.        ,  0.        ]],\n",
       " \n",
       "         [[ 0.        ,  0.        ],\n",
       "          [ 0.        ,  0.        ],\n",
       "          [ 0.        ,  0.        ],\n",
       "          ...,\n",
       "          [ 0.        ,  0.        ],\n",
       "          [ 0.        ,  0.        ],\n",
       "          [ 0.        ,  0.        ]]],\n",
       " \n",
       " \n",
       "        [[[ 2.30821   ,  0.        ],\n",
       "          [ 2.253364  ,  0.        ],\n",
       "          [ 2.186779  ,  0.        ],\n",
       "          ...,\n",
       "          [ 2.2889    ,  0.        ],\n",
       "          [ 2.147256  ,  0.        ],\n",
       "          [ 2.16289   ,  0.        ]],\n",
       " \n",
       "         [[ 2.311321  ,  0.        ],\n",
       "          [ 2.257648  ,  0.        ],\n",
       "          [ 2.192483  ,  0.        ],\n",
       "          ...,\n",
       "          [ 2.294592  ,  0.        ],\n",
       "          [ 2.139611  ,  0.        ],\n",
       "          [ 2.095195  ,  0.        ]],\n",
       " \n",
       "         [[ 2.313378  ,  0.        ],\n",
       "          [ 2.259622  ,  0.        ],\n",
       "          [ 2.194192  ,  0.        ],\n",
       "          ...,\n",
       "          [ 2.296291  ,  0.        ],\n",
       "          [ 2.139584  ,  0.        ],\n",
       "          [ 2.098114  ,  0.        ]],\n",
       " \n",
       "         ...,\n",
       " \n",
       "         [[ 0.        ,  0.        ],\n",
       "          [ 0.        ,  0.        ],\n",
       "          [ 0.        ,  0.        ],\n",
       "          ...,\n",
       "          [ 0.        ,  0.        ],\n",
       "          [ 0.        ,  0.        ],\n",
       "          [ 0.        ,  0.        ]],\n",
       " \n",
       "         [[ 0.        ,  0.        ],\n",
       "          [ 0.        ,  0.        ],\n",
       "          [ 0.        ,  0.        ],\n",
       "          ...,\n",
       "          [ 0.        ,  0.        ],\n",
       "          [ 0.        ,  0.        ],\n",
       "          [ 0.        ,  0.        ]],\n",
       " \n",
       "         [[ 0.        ,  0.        ],\n",
       "          [ 0.        ,  0.        ],\n",
       "          [ 0.        ,  0.        ],\n",
       "          ...,\n",
       "          [ 0.        ,  0.        ],\n",
       "          [ 0.        ,  0.        ],\n",
       "          [ 0.        ,  0.        ]]]], dtype=float32),\n",
       " 25)"
      ]
     },
     "execution_count": 5,
     "metadata": {},
     "output_type": "execute_result"
    }
   ],
   "source": [
    "dset[0]"
   ]
  },
  {
   "cell_type": "code",
   "execution_count": 6,
   "metadata": {},
   "outputs": [
    {
     "data": {
      "text/plain": [
       "(array([[[[1.374204 , 0.       ],\n",
       "          [1.392394 , 0.       ],\n",
       "          [1.40658  , 0.       ],\n",
       "          ...,\n",
       "          [1.369122 , 0.       ],\n",
       "          [1.405365 , 0.       ],\n",
       "          [1.457862 , 0.       ]],\n",
       " \n",
       "         [[1.379343 , 0.       ],\n",
       "          [1.396379 , 0.       ],\n",
       "          [1.409424 , 0.       ],\n",
       "          ...,\n",
       "          [1.385505 , 0.       ],\n",
       "          [1.430124 , 0.       ],\n",
       "          [1.457757 , 0.       ]],\n",
       " \n",
       "         [[1.382295 , 0.       ],\n",
       "          [1.39973  , 0.       ],\n",
       "          [1.413233 , 0.       ],\n",
       "          ...,\n",
       "          [1.416391 , 0.       ],\n",
       "          [1.444249 , 0.       ],\n",
       "          [1.465813 , 0.       ]],\n",
       " \n",
       "         ...,\n",
       " \n",
       "         [[0.       , 0.       ],\n",
       "          [0.       , 0.       ],\n",
       "          [0.       , 0.       ],\n",
       "          ...,\n",
       "          [0.       , 0.       ],\n",
       "          [0.       , 0.       ],\n",
       "          [0.       , 0.       ]],\n",
       " \n",
       "         [[0.       , 0.       ],\n",
       "          [0.       , 0.       ],\n",
       "          [0.       , 0.       ],\n",
       "          ...,\n",
       "          [0.       , 0.       ],\n",
       "          [0.       , 0.       ],\n",
       "          [0.       , 0.       ]],\n",
       " \n",
       "         [[0.       , 0.       ],\n",
       "          [0.       , 0.       ],\n",
       "          [0.       , 0.       ],\n",
       "          ...,\n",
       "          [0.       , 0.       ],\n",
       "          [0.       , 0.       ],\n",
       "          [0.       , 0.       ]]],\n",
       " \n",
       " \n",
       "        [[[0.3107391, 0.       ],\n",
       "          [0.6054217, 0.       ],\n",
       "          [0.8937011, 0.       ],\n",
       "          ...,\n",
       "          [0.22439  , 0.       ],\n",
       "          [0.1577107, 0.       ],\n",
       "          [0.2285702, 0.       ]],\n",
       " \n",
       "         [[0.3093462, 0.       ],\n",
       "          [0.6039193, 0.       ],\n",
       "          [0.892135 , 0.       ],\n",
       "          ...,\n",
       "          [0.2080481, 0.       ],\n",
       "          [0.1410557, 0.       ],\n",
       "          [0.1869479, 0.       ]],\n",
       " \n",
       "         [[0.3086163, 0.       ],\n",
       "          [0.6034809, 0.       ],\n",
       "          [0.8919764, 0.       ],\n",
       "          ...,\n",
       "          [0.2363026, 0.       ],\n",
       "          [0.1315376, 0.       ],\n",
       "          [0.1770702, 0.       ]],\n",
       " \n",
       "         ...,\n",
       " \n",
       "         [[0.       , 0.       ],\n",
       "          [0.       , 0.       ],\n",
       "          [0.       , 0.       ],\n",
       "          ...,\n",
       "          [0.       , 0.       ],\n",
       "          [0.       , 0.       ],\n",
       "          [0.       , 0.       ]],\n",
       " \n",
       "         [[0.       , 0.       ],\n",
       "          [0.       , 0.       ],\n",
       "          [0.       , 0.       ],\n",
       "          ...,\n",
       "          [0.       , 0.       ],\n",
       "          [0.       , 0.       ],\n",
       "          [0.       , 0.       ]],\n",
       " \n",
       "         [[0.       , 0.       ],\n",
       "          [0.       , 0.       ],\n",
       "          [0.       , 0.       ],\n",
       "          ...,\n",
       "          [0.       , 0.       ],\n",
       "          [0.       , 0.       ],\n",
       "          [0.       , 0.       ]]],\n",
       " \n",
       " \n",
       "        [[[3.815878 , 0.       ],\n",
       "          [3.781371 , 0.       ],\n",
       "          [3.736212 , 0.       ],\n",
       "          ...,\n",
       "          [3.639267 , 0.       ],\n",
       "          [3.63706  , 0.       ],\n",
       "          [3.612833 , 0.       ]],\n",
       " \n",
       "         [[3.814633 , 0.       ],\n",
       "          [3.780295 , 0.       ],\n",
       "          [3.735324 , 0.       ],\n",
       "          ...,\n",
       "          [3.645813 , 0.       ],\n",
       "          [3.649207 , 0.       ],\n",
       "          [3.598417 , 0.       ]],\n",
       " \n",
       "         [[3.814756 , 0.       ],\n",
       "          [3.779504 , 0.       ],\n",
       "          [3.73344  , 0.       ],\n",
       "          ...,\n",
       "          [3.6357   , 0.       ],\n",
       "          [3.659997 , 0.       ],\n",
       "          [3.5963   , 0.       ]],\n",
       " \n",
       "         ...,\n",
       " \n",
       "         [[0.       , 0.       ],\n",
       "          [0.       , 0.       ],\n",
       "          [0.       , 0.       ],\n",
       "          ...,\n",
       "          [0.       , 0.       ],\n",
       "          [0.       , 0.       ],\n",
       "          [0.       , 0.       ]],\n",
       " \n",
       "         [[0.       , 0.       ],\n",
       "          [0.       , 0.       ],\n",
       "          [0.       , 0.       ],\n",
       "          ...,\n",
       "          [0.       , 0.       ],\n",
       "          [0.       , 0.       ],\n",
       "          [0.       , 0.       ]],\n",
       " \n",
       "         [[0.       , 0.       ],\n",
       "          [0.       , 0.       ],\n",
       "          [0.       , 0.       ],\n",
       "          ...,\n",
       "          [0.       , 0.       ],\n",
       "          [0.       , 0.       ],\n",
       "          [0.       , 0.       ]]]], dtype=float32),\n",
       " 58)"
      ]
     },
     "execution_count": 6,
     "metadata": {},
     "output_type": "execute_result"
    }
   ],
   "source": [
    "dset[1]"
   ]
  },
  {
   "cell_type": "code",
   "execution_count": 7,
   "metadata": {},
   "outputs": [],
   "source": [
    "data_loader = torch.utils.data.DataLoader(\n",
    "        dataset=dset,\n",
    "        batch_size=1084,\n",
    "        shuffle=False)\n",
    "img, label = data_loader.__iter__().__next__()"
   ]
  },
  {
   "cell_type": "code",
   "execution_count": 8,
   "metadata": {},
   "outputs": [
    {
     "data": {
      "text/plain": [
       "torch.Size([1084, 3, 300, 25, 2])"
      ]
     },
     "execution_count": 8,
     "metadata": {},
     "output_type": "execute_result"
    }
   ],
   "source": [
    "img.shape"
   ]
  },
  {
   "cell_type": "code",
   "execution_count": 9,
   "metadata": {},
   "outputs": [
    {
     "data": {
      "text/plain": [
       "torch.Size([1084])"
      ]
     },
     "execution_count": 9,
     "metadata": {},
     "output_type": "execute_result"
    }
   ],
   "source": [
    "label.shape"
   ]
  },
  {
   "cell_type": "code",
   "execution_count": 10,
   "metadata": {},
   "outputs": [],
   "source": [
    "tsne_data = resize(img)"
   ]
  },
  {
   "cell_type": "code",
   "execution_count": 11,
   "metadata": {},
   "outputs": [
    {
     "data": {
      "text/plain": [
       "torch.Size([2168, 22500])"
      ]
     },
     "execution_count": 11,
     "metadata": {},
     "output_type": "execute_result"
    }
   ],
   "source": [
    "tsne_data.shape"
   ]
  },
  {
   "cell_type": "code",
   "execution_count": 12,
   "metadata": {},
   "outputs": [
    {
     "name": "stdout",
     "output_type": "stream",
     "text": [
      "torch.Size([1084, 22500])\n",
      "(1084,)\n"
     ]
    }
   ],
   "source": [
    "data = tsne_data[::2,]\n",
    "label = np.array(label)\n",
    "print(data.shape)\n",
    "print(label.shape)"
   ]
  },
  {
   "cell_type": "code",
   "execution_count": 13,
   "metadata": {},
   "outputs": [],
   "source": [
    "from time import time\n",
    "import matplotlib.pyplot as plt\n",
    "from mpl_toolkits.mplot3d import Axes3D\n",
    "from sklearn import datasets\n",
    "from sklearn.manifold import TSNE\n",
    "\n",
    "def plot_embedding_2D(data, label, title):\n",
    "    x_min, x_max = np.min(data, 0), np.max(data, 0)\n",
    "    data = (data - x_min) / (x_max - x_min)\n",
    "    fig = plt.figure()\n",
    "    for i in range(data.shape[0]):\n",
    "        plt.text(data[i, 0], data[i, 1], str(label[i]),\n",
    "                 color=plt.cm.Set1(label[i]),\n",
    "                 fontdict={'weight': 'bold', 'size': 9})\n",
    "    plt.xticks([])\n",
    "    plt.yticks([])\n",
    "    plt.title(title)\n",
    "    return fig\n",
    "def plot_embedding_3D(data,label,title): \n",
    "    x_min, x_max = np.min(data,axis=0), np.max(data,axis=0) \n",
    "    data = (data- x_min) / (x_max - x_min) \n",
    "    fig = plt.figure()\n",
    "    ax = fig.add_subplot(111,projection='3d') \n",
    "    for i in range(data.shape[0]): \n",
    "        ax.text(data[i, 0], data[i, 1], data[i,2],str(label[i]), color=plt.cm.Set1(label[i]),fontdict={'weight': 'bold', 'size': 9}) \n",
    "    return fig"
   ]
  },
  {
   "cell_type": "code",
   "execution_count": 14,
   "metadata": {},
   "outputs": [
    {
     "name": "stdout",
     "output_type": "stream",
     "text": [
      "Begining......\n",
      "Finished......\n"
     ]
    },
    {
     "data": {
      "image/png": "[encoded data removed]",
      "text/plain": [
       "<Figure size 432x288 with 1 Axes>"
      ]
     },
     "metadata": {},
     "output_type": "display_data"
    },
    {
     "data": {
      "image/png": "[encoded data removed]",
      "text/plain": [
       "<Figure size 432x288 with 1 Axes>"
      ]
     },
     "metadata": {
      "needs_background": "light"
     },
     "output_type": "display_data"
    }
   ],
   "source": [
    "print('Begining......') #时间会较长，所有处理完毕后给出finished提示\n",
    "tsne_2D = TSNE(n_components=2, init='pca', random_state=0) #调用TSNE\n",
    "result_2D = tsne_2D.fit_transform(data)\n",
    "tsne_3D = TSNE(n_components=3, init='pca', random_state=0)\n",
    "result_3D = tsne_3D.fit_transform(data)\n",
    "print('Finished......')\n",
    "#调用上面的两个函数进行可视化\n",
    "fig1 = plot_embedding_2D(result_2D, label,'t-SNE')\n",
    "plt.show(fig1)\n",
    "fig2 = plot_embedding_3D(result_3D, label,'t-SNE')\n",
    "plt.show(fig2)"
   ]
  },
  {
   "cell_type": "code",
   "execution_count": null,
   "metadata": {},
   "outputs": [],
   "source": []
  }
 ],
 "metadata": {
  "kernelspec": {
   "display_name": "Python 3",
   "language": "python",
   "name": "python3"
  },
  "language_info": {
   "codemirror_mode": {
    "name": "ipython",
    "version": 3
   },
   "file_extension": ".py",
   "mimetype": "text/x-python",
   "name": "python",
   "nbconvert_exporter": "python",
   "pygments_lexer": "ipython3",
   "version": "3.6.9"
  }
 },
 "nbformat": 4,
 "nbformat_minor": 4
}
