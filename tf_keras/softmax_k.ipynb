{
 "cells": [
  {
   "cell_type": "code",
   "execution_count": 36,
   "metadata": {},
   "outputs": [],
   "source": [
    "import keras\n",
    "from keras.layers import Input, Dense, Activation\n",
    "from keras.activations import softmax\n",
    "from keras.models import Model\n",
    "import numpy as np"
   ]
  },
  {
   "cell_type": "code",
   "execution_count": 35,
   "metadata": {},
   "outputs": [
    {
     "name": "stdout",
     "output_type": "stream",
     "text": [
      "the output shape of model from inputs to encoded is (4, 10)\n",
      "[[0.         0.93114454 0.         0.17058262 0.40107056 0.\n",
      "  0.         0.         0.         0.        ]\n",
      " [0.         0.989104   0.         0.20777561 0.84135854 0.\n",
      "  0.         0.         0.         0.        ]\n",
      " [0.26743966 1.0572698  0.         0.02998228 0.12342998 0.\n",
      "  0.         0.         0.         0.        ]\n",
      " [0.35352516 0.7407278  0.         0.1619741  0.48195028 0.\n",
      "  0.         0.         0.         0.        ]]\n",
      "1.5027977\n"
     ]
    },
    {
     "name": "stderr",
     "output_type": "stream",
     "text": [
      "/home/lisatiy/anaconda3/envs/CenterNet/lib/python3.6/site-packages/ipykernel_launcher.py:5: UserWarning: Update your `Model` call to the Keras 2 API: `Model(inputs=Tensor(\"in..., outputs=Tensor(\"ac...)`\n",
      "  \"\"\"\n",
      "/home/lisatiy/anaconda3/envs/CenterNet/lib/python3.6/site-packages/ipykernel_launcher.py:7: UserWarning: Update your `Model` call to the Keras 2 API: `Model(inputs=Tensor(\"in..., outputs=Tensor(\"de...)`\n",
      "  import sys\n"
     ]
    }
   ],
   "source": [
    "# 通过泛型获得模型的输出\n",
    "inputs = Input((10,))\n",
    "encoded = Dense(10, activation='relu')(inputs)\n",
    "decoded = Activation('softmax')(encoded)\n",
    "model = Model(input=inputs, output=decoded)\n",
    "\n",
    "encoder = Model(input=inputs, output=encoded)\n",
    "X = np.random.random((4,10))\n",
    "X_encoded = encoder.predict(X)\n",
    "print('the output shape of model from inputs to encoded is {}'.format(X_encoded.shape))\n",
    "print(X_encoded)\n",
    "print(X_encoded[0].sum())\n",
    "# # 输出模型的配置信息\n",
    "# print('the config information of model from inputs to encoded is:')\n",
    "# print(encoder.get_config())\n",
    "# print('the weight of model from inputs to encoded is:')\n",
    "# print(encoder.get_weights())"
   ]
  },
  {
   "cell_type": "code",
   "execution_count": null,
   "metadata": {},
   "outputs": [],
   "source": []
  },
  {
   "cell_type": "code",
   "execution_count": null,
   "metadata": {},
   "outputs": [],
   "source": []
  }
 ],
 "metadata": {
  "kernelspec": {
   "display_name": "python36",
   "language": "python",
   "name": "python36"
  },
  "language_info": {
   "codemirror_mode": {
    "name": "ipython",
    "version": 3
   },
   "file_extension": ".py",
   "mimetype": "text/x-python",
   "name": "python",
   "nbconvert_exporter": "python",
   "pygments_lexer": "ipython3",
   "version": "3.6.2"
  }
 },
 "nbformat": 4,
 "nbformat_minor": 2
}
